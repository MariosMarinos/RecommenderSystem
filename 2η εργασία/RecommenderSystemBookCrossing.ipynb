{
 "cells": [
  {
   "cell_type": "code",
   "execution_count": 70,
   "metadata": {},
   "outputs": [],
   "source": [
    "import pandas as pd\n",
    "import numpy as np\n",
    "import matplotlib.pyplot as pl\n",
    "import operator\n",
    "from rake_nltk import Rake\n",
    "from nltk.corpus import stopwords\n",
    "# to disable a warning that had no point(raising an error because of slicing a dataframe on this way).\n",
    "pd.options.mode.chained_assignment = None  # default='warn'"
   ]
  },
  {
   "cell_type": "code",
   "execution_count": 2,
   "metadata": {},
   "outputs": [
    {
     "name": "stderr",
     "output_type": "stream",
     "text": [
      "b'Skipping line 6452: expected 8 fields, saw 9\\nSkipping line 43667: expected 8 fields, saw 10\\nSkipping line 51751: expected 8 fields, saw 9\\n'\n",
      "b'Skipping line 92038: expected 8 fields, saw 9\\nSkipping line 104319: expected 8 fields, saw 9\\nSkipping line 121768: expected 8 fields, saw 9\\n'\n",
      "b'Skipping line 144058: expected 8 fields, saw 9\\nSkipping line 150789: expected 8 fields, saw 9\\nSkipping line 157128: expected 8 fields, saw 9\\nSkipping line 180189: expected 8 fields, saw 9\\nSkipping line 185738: expected 8 fields, saw 9\\n'\n",
      "b'Skipping line 209388: expected 8 fields, saw 9\\nSkipping line 220626: expected 8 fields, saw 9\\nSkipping line 227933: expected 8 fields, saw 11\\nSkipping line 228957: expected 8 fields, saw 10\\nSkipping line 245933: expected 8 fields, saw 9\\nSkipping line 251296: expected 8 fields, saw 9\\nSkipping line 259941: expected 8 fields, saw 9\\nSkipping line 261529: expected 8 fields, saw 9\\n'\n",
      "c:\\users\\marios\\appdata\\local\\programs\\python\\python37\\lib\\site-packages\\IPython\\core\\interactiveshell.py:3058: DtypeWarning: Columns (3) have mixed types. Specify dtype option on import or set low_memory=False.\n",
      "  interactivity=interactivity, compiler=compiler, result=result)\n"
     ]
    }
   ],
   "source": [
    "#Loading data\n",
    "books = pd.read_csv('BX-Books.csv', sep=';', error_bad_lines=False, encoding=\"latin-1\")\n",
    "books.columns = ['ISBN', 'bookTitle', 'bookAuthor', 'yearOfPublication', 'publisher', 'imageUrlS', 'imageUrlM', 'imageUrlL']\n",
    "users = pd.read_csv('BX-Users.csv', sep=';', error_bad_lines=False, encoding=\"latin-1\")\n",
    "users.columns = ['userID', 'Location', 'Age']\n",
    "ratings = pd.read_csv('BX-Book-Ratings.csv', sep=';', error_bad_lines=False, encoding=\"latin-1\")\n",
    "ratings.columns = ['userID', 'ISBN', 'bookRating']"
   ]
  },
  {
   "cell_type": "code",
   "execution_count": 3,
   "metadata": {},
   "outputs": [],
   "source": [
    "# PRE PROCESSING OVER THE DATA SET \n",
    "#dropping last three columns containing image URLs which will not be required for analysis.\n",
    "books.drop(['imageUrlS', 'imageUrlM', 'imageUrlL'],axis=1,inplace=True)"
   ]
  },
  {
   "cell_type": "code",
   "execution_count": 4,
   "metadata": {},
   "outputs": [
    {
     "name": "stdout",
     "output_type": "stream",
     "text": [
      "(1149780, 3)\n",
      "(1031136, 3)\n"
     ]
    }
   ],
   "source": [
    "#ratings dataset should have books only which exist in our books dataset, unless new books are added to books dataset\n",
    "ratings_new = ratings[ratings.ISBN.isin(books.ISBN)]\n",
    "print (ratings.shape)\n",
    "print (ratings_new.shape)\n",
    "#it can be seen that many rows having book ISBN not part of books dataset got dropped off"
   ]
  },
  {
   "cell_type": "code",
   "execution_count": 5,
   "metadata": {},
   "outputs": [
    {
     "name": "stdout",
     "output_type": "stream",
     "text": [
      "(1149780, 3)\n",
      "(1149780, 3)\n"
     ]
    }
   ],
   "source": [
    "#ratings dataset should have ratings from users which exist in users dataset, unless new users are added to users dataset\n",
    "ratings_new = ratings[ratings.userID.isin(users.userID)]\n",
    "print (ratings.shape)\n",
    "print (ratings_new.shape)\n",
    "#no new users added, hence we will go with above dataset ratings_new (1031136, 3)"
   ]
  },
  {
   "cell_type": "code",
   "execution_count": 6,
   "metadata": {},
   "outputs": [],
   "source": [
    "# removing the ratins books that don't exist on books dataframe. \n",
    "ratings = ratings[ratings.ISBN.isin(books.ISBN)]"
   ]
  },
  {
   "cell_type": "code",
   "execution_count": 7,
   "metadata": {},
   "outputs": [],
   "source": [
    "books.yearOfPublication.unique()\n",
    "#investigating the rows having 'DK Publishing Inc' as yearOfPublication\n",
    "books.loc[books.yearOfPublication == 'DK Publishing Inc',:]\n",
    "#From above, it is seen that bookAuthor is incorrectly loaded with bookTitle, hence making required corrections\n",
    "#ISBN '0789466953'\n",
    "books.loc[books.ISBN == '0789466953','yearOfPublication'] = 2000\n",
    "books.loc[books.ISBN == '0789466953','bookAuthor'] = \"James Buckley\"\n",
    "books.loc[books.ISBN == '0789466953','publisher'] = \"DK Publishing Inc\"\n",
    "books.loc[books.ISBN == '0789466953','bookTitle'] = \"DK Readers: Creating the X-Men, How Comic Books Come to Life (Level 4: Proficient Readers)\"\n",
    "#ISBN '078946697X'\n",
    "books.loc[books.ISBN == '078946697X','yearOfPublication'] = 2000\n",
    "books.loc[books.ISBN == '078946697X','bookAuthor'] = \"Michael Teitelbaum\"\n",
    "books.loc[books.ISBN == '078946697X','publisher'] = \"DK Publishing Inc\"\n",
    "books.loc[books.ISBN == '078946697X','bookTitle'] = \"DK Readers: Creating the X-Men, How It All Began (Level 4: Proficient Readers)\""
   ]
  },
  {
   "cell_type": "code",
   "execution_count": 8,
   "metadata": {},
   "outputs": [
    {
     "data": {
      "text/html": [
       "<div>\n",
       "<style scoped>\n",
       "    .dataframe tbody tr th:only-of-type {\n",
       "        vertical-align: middle;\n",
       "    }\n",
       "\n",
       "    .dataframe tbody tr th {\n",
       "        vertical-align: top;\n",
       "    }\n",
       "\n",
       "    .dataframe thead th {\n",
       "        text-align: right;\n",
       "    }\n",
       "</style>\n",
       "<table border=\"1\" class=\"dataframe\">\n",
       "  <thead>\n",
       "    <tr style=\"text-align: right;\">\n",
       "      <th></th>\n",
       "      <th>ISBN</th>\n",
       "      <th>bookTitle</th>\n",
       "      <th>bookAuthor</th>\n",
       "      <th>yearOfPublication</th>\n",
       "      <th>publisher</th>\n",
       "    </tr>\n",
       "  </thead>\n",
       "  <tbody>\n",
       "    <tr>\n",
       "      <td>209538</td>\n",
       "      <td>078946697X</td>\n",
       "      <td>DK Readers: Creating the X-Men, How It All Beg...</td>\n",
       "      <td>Michael Teitelbaum</td>\n",
       "      <td>2000</td>\n",
       "      <td>DK Publishing Inc</td>\n",
       "    </tr>\n",
       "    <tr>\n",
       "      <td>221678</td>\n",
       "      <td>0789466953</td>\n",
       "      <td>DK Readers: Creating the X-Men, How Comic Book...</td>\n",
       "      <td>James Buckley</td>\n",
       "      <td>2000</td>\n",
       "      <td>DK Publishing Inc</td>\n",
       "    </tr>\n",
       "  </tbody>\n",
       "</table>\n",
       "</div>"
      ],
      "text/plain": [
       "              ISBN                                          bookTitle  \\\n",
       "209538  078946697X  DK Readers: Creating the X-Men, How It All Beg...   \n",
       "221678  0789466953  DK Readers: Creating the X-Men, How Comic Book...   \n",
       "\n",
       "                bookAuthor yearOfPublication          publisher  \n",
       "209538  Michael Teitelbaum              2000  DK Publishing Inc  \n",
       "221678       James Buckley              2000  DK Publishing Inc  "
      ]
     },
     "execution_count": 8,
     "metadata": {},
     "output_type": "execute_result"
    }
   ],
   "source": [
    "#rechecking\n",
    "books.loc[(books.ISBN == '0789466953') | (books.ISBN == '078946697X'), :]\n",
    "#corrections done"
   ]
  },
  {
   "cell_type": "code",
   "execution_count": 9,
   "metadata": {},
   "outputs": [
    {
     "data": {
      "text/html": [
       "<div>\n",
       "<style scoped>\n",
       "    .dataframe tbody tr th:only-of-type {\n",
       "        vertical-align: middle;\n",
       "    }\n",
       "\n",
       "    .dataframe tbody tr th {\n",
       "        vertical-align: top;\n",
       "    }\n",
       "\n",
       "    .dataframe thead th {\n",
       "        text-align: right;\n",
       "    }\n",
       "</style>\n",
       "<table border=\"1\" class=\"dataframe\">\n",
       "  <thead>\n",
       "    <tr style=\"text-align: right;\">\n",
       "      <th></th>\n",
       "      <th>ISBN</th>\n",
       "      <th>bookTitle</th>\n",
       "      <th>bookAuthor</th>\n",
       "      <th>yearOfPublication</th>\n",
       "      <th>publisher</th>\n",
       "    </tr>\n",
       "  </thead>\n",
       "  <tbody>\n",
       "    <tr>\n",
       "      <td>220731</td>\n",
       "      <td>2070426769</td>\n",
       "      <td>Peuple du ciel, suivi de 'Les Bergers\\\";Jean-M...</td>\n",
       "      <td>2003</td>\n",
       "      <td>Gallimard</td>\n",
       "      <td>http://images.amazon.com/images/P/2070426769.0...</td>\n",
       "    </tr>\n",
       "  </tbody>\n",
       "</table>\n",
       "</div>"
      ],
      "text/plain": [
       "              ISBN                                          bookTitle  \\\n",
       "220731  2070426769  Peuple du ciel, suivi de 'Les Bergers\\\";Jean-M...   \n",
       "\n",
       "       bookAuthor yearOfPublication  \\\n",
       "220731       2003         Gallimard   \n",
       "\n",
       "                                                publisher  \n",
       "220731  http://images.amazon.com/images/P/2070426769.0...  "
      ]
     },
     "execution_count": 9,
     "metadata": {},
     "output_type": "execute_result"
    }
   ],
   "source": [
    "#investigating the rows having 'Gallimard' as yearOfPublication\n",
    "books.loc[books.yearOfPublication == 'Gallimard',:]"
   ]
  },
  {
   "cell_type": "code",
   "execution_count": 10,
   "metadata": {},
   "outputs": [],
   "source": [
    "#making required corrections as above, keeping other fields intact\n",
    "books.loc[books.ISBN == '2070426769','yearOfPublication'] = 2003\n",
    "books.loc[books.ISBN == '2070426769','bookAuthor'] = \"Jean-Marie Gustave Le ClÃ?Â©zio\"\n",
    "books.loc[books.ISBN == '2070426769','publisher'] = \"Gallimard\"\n",
    "books.loc[books.ISBN == '2070426769','bookTitle'] = \"Peuple du ciel, suivi de 'Les Bergers\""
   ]
  },
  {
   "cell_type": "code",
   "execution_count": 11,
   "metadata": {},
   "outputs": [
    {
     "data": {
      "text/html": [
       "<div>\n",
       "<style scoped>\n",
       "    .dataframe tbody tr th:only-of-type {\n",
       "        vertical-align: middle;\n",
       "    }\n",
       "\n",
       "    .dataframe tbody tr th {\n",
       "        vertical-align: top;\n",
       "    }\n",
       "\n",
       "    .dataframe thead th {\n",
       "        text-align: right;\n",
       "    }\n",
       "</style>\n",
       "<table border=\"1\" class=\"dataframe\">\n",
       "  <thead>\n",
       "    <tr style=\"text-align: right;\">\n",
       "      <th></th>\n",
       "      <th>ISBN</th>\n",
       "      <th>bookTitle</th>\n",
       "      <th>bookAuthor</th>\n",
       "      <th>yearOfPublication</th>\n",
       "      <th>publisher</th>\n",
       "    </tr>\n",
       "  </thead>\n",
       "  <tbody>\n",
       "    <tr>\n",
       "      <td>220731</td>\n",
       "      <td>2070426769</td>\n",
       "      <td>Peuple du ciel, suivi de 'Les Bergers</td>\n",
       "      <td>Jean-Marie Gustave Le ClÃ?Â©zio</td>\n",
       "      <td>2003</td>\n",
       "      <td>Gallimard</td>\n",
       "    </tr>\n",
       "  </tbody>\n",
       "</table>\n",
       "</div>"
      ],
      "text/plain": [
       "              ISBN                              bookTitle  \\\n",
       "220731  2070426769  Peuple du ciel, suivi de 'Les Bergers   \n",
       "\n",
       "                             bookAuthor yearOfPublication  publisher  \n",
       "220731  Jean-Marie Gustave Le ClÃ?Â©zio              2003  Gallimard  "
      ]
     },
     "execution_count": 11,
     "metadata": {},
     "output_type": "execute_result"
    }
   ],
   "source": [
    "#rechecking\n",
    "books.loc[books.ISBN == '2070426769',:]\n",
    "#corrections done"
   ]
  },
  {
   "cell_type": "code",
   "execution_count": 12,
   "metadata": {},
   "outputs": [],
   "source": [
    "#Correcting the dtypes of yearOfPublication\n",
    "books.yearOfPublication=pd.to_numeric(books.yearOfPublication, errors='coerce')"
   ]
  },
  {
   "cell_type": "code",
   "execution_count": 13,
   "metadata": {},
   "outputs": [],
   "source": [
    "# However, the value 0 is invalid and as this dataset was published in 2004, I have assumed the the years after 2005 to be \n",
    "# invalid keeping some margin in case dataset was updated thereafer\n",
    "# setting invalid years as NaN\n",
    "books.loc[(books.yearOfPublication > 2005) | (books.yearOfPublication == 0),'yearOfPublication'] = np.NAN"
   ]
  },
  {
   "cell_type": "code",
   "execution_count": 14,
   "metadata": {},
   "outputs": [],
   "source": [
    "#replacing NaNs with mean value of yearOfPublication\n",
    "books.yearOfPublication.fillna(round(books.yearOfPublication.mean()), inplace=True)"
   ]
  },
  {
   "cell_type": "code",
   "execution_count": 15,
   "metadata": {
    "scrolled": false
   },
   "outputs": [],
   "source": [
    "#rechecking\n",
    "books.yearOfPublication.isnull().sum()\n",
    "#resetting the dtype as int32\n",
    "books.yearOfPublication = books.yearOfPublication.astype(np.int32)"
   ]
  },
  {
   "cell_type": "code",
   "execution_count": 16,
   "metadata": {},
   "outputs": [
    {
     "data": {
      "text/html": [
       "<div>\n",
       "<style scoped>\n",
       "    .dataframe tbody tr th:only-of-type {\n",
       "        vertical-align: middle;\n",
       "    }\n",
       "\n",
       "    .dataframe tbody tr th {\n",
       "        vertical-align: top;\n",
       "    }\n",
       "\n",
       "    .dataframe thead th {\n",
       "        text-align: right;\n",
       "    }\n",
       "</style>\n",
       "<table border=\"1\" class=\"dataframe\">\n",
       "  <thead>\n",
       "    <tr style=\"text-align: right;\">\n",
       "      <th></th>\n",
       "      <th>ISBN</th>\n",
       "      <th>bookTitle</th>\n",
       "      <th>bookAuthor</th>\n",
       "      <th>yearOfPublication</th>\n",
       "      <th>publisher</th>\n",
       "    </tr>\n",
       "  </thead>\n",
       "  <tbody>\n",
       "    <tr>\n",
       "      <td>187689</td>\n",
       "      <td>9627982032</td>\n",
       "      <td>The Credit Suisse Guide to Managing Your Perso...</td>\n",
       "      <td>NaN</td>\n",
       "      <td>1995</td>\n",
       "      <td>Edinburgh Financial Publishing</td>\n",
       "    </tr>\n",
       "  </tbody>\n",
       "</table>\n",
       "</div>"
      ],
      "text/plain": [
       "              ISBN                                          bookTitle  \\\n",
       "187689  9627982032  The Credit Suisse Guide to Managing Your Perso...   \n",
       "\n",
       "       bookAuthor  yearOfPublication                       publisher  \n",
       "187689        NaN               1995  Edinburgh Financial Publishing  "
      ]
     },
     "execution_count": 16,
     "metadata": {},
     "output_type": "execute_result"
    }
   ],
   "source": [
    "#exploring 'bookAuthor' column\n",
    "books.loc[books.bookAuthor.isnull(),:]"
   ]
  },
  {
   "cell_type": "code",
   "execution_count": 17,
   "metadata": {},
   "outputs": [],
   "source": [
    "# I've searched and found that link on amazon https://www.amazon.com/Credit-Suisse-Managing-Personal-International/dp/9627982075\n",
    "# and the author is also the publisher so I changed it.\n",
    "books.loc[books.ISBN == '9627982032','bookAuthor'] = 'Edinburgh Financial Publishing'\n",
    "\n",
    "# END OF PRE PROCESSING "
   ]
  },
  {
   "cell_type": "code",
   "execution_count": 18,
   "metadata": {},
   "outputs": [
    {
     "data": {
      "text/html": [
       "<div>\n",
       "<style scoped>\n",
       "    .dataframe tbody tr th:only-of-type {\n",
       "        vertical-align: middle;\n",
       "    }\n",
       "\n",
       "    .dataframe tbody tr th {\n",
       "        vertical-align: top;\n",
       "    }\n",
       "\n",
       "    .dataframe thead th {\n",
       "        text-align: right;\n",
       "    }\n",
       "</style>\n",
       "<table border=\"1\" class=\"dataframe\">\n",
       "  <thead>\n",
       "    <tr style=\"text-align: right;\">\n",
       "      <th></th>\n",
       "      <th>userID</th>\n",
       "      <th>ISBN</th>\n",
       "      <th>bookRating</th>\n",
       "    </tr>\n",
       "  </thead>\n",
       "  <tbody>\n",
       "    <tr>\n",
       "      <td>0</td>\n",
       "      <td>276725</td>\n",
       "      <td>034545104X</td>\n",
       "      <td>0</td>\n",
       "    </tr>\n",
       "    <tr>\n",
       "      <td>2</td>\n",
       "      <td>276727</td>\n",
       "      <td>0446520802</td>\n",
       "      <td>0</td>\n",
       "    </tr>\n",
       "    <tr>\n",
       "      <td>8</td>\n",
       "      <td>276744</td>\n",
       "      <td>038550120X</td>\n",
       "      <td>7</td>\n",
       "    </tr>\n",
       "    <tr>\n",
       "      <td>10</td>\n",
       "      <td>276746</td>\n",
       "      <td>0425115801</td>\n",
       "      <td>0</td>\n",
       "    </tr>\n",
       "    <tr>\n",
       "      <td>11</td>\n",
       "      <td>276746</td>\n",
       "      <td>0449006522</td>\n",
       "      <td>0</td>\n",
       "    </tr>\n",
       "    <tr>\n",
       "      <td>...</td>\n",
       "      <td>...</td>\n",
       "      <td>...</td>\n",
       "      <td>...</td>\n",
       "    </tr>\n",
       "    <tr>\n",
       "      <td>1149771</td>\n",
       "      <td>276704</td>\n",
       "      <td>0743211383</td>\n",
       "      <td>7</td>\n",
       "    </tr>\n",
       "    <tr>\n",
       "      <td>1149772</td>\n",
       "      <td>276704</td>\n",
       "      <td>080410526X</td>\n",
       "      <td>0</td>\n",
       "    </tr>\n",
       "    <tr>\n",
       "      <td>1149776</td>\n",
       "      <td>276706</td>\n",
       "      <td>0679447156</td>\n",
       "      <td>0</td>\n",
       "    </tr>\n",
       "    <tr>\n",
       "      <td>1149777</td>\n",
       "      <td>276709</td>\n",
       "      <td>0515107662</td>\n",
       "      <td>10</td>\n",
       "    </tr>\n",
       "    <tr>\n",
       "      <td>1149778</td>\n",
       "      <td>276721</td>\n",
       "      <td>0590442449</td>\n",
       "      <td>10</td>\n",
       "    </tr>\n",
       "  </tbody>\n",
       "</table>\n",
       "<p>520499 rows × 3 columns</p>\n",
       "</div>"
      ],
      "text/plain": [
       "         userID        ISBN  bookRating\n",
       "0        276725  034545104X           0\n",
       "2        276727  0446520802           0\n",
       "8        276744  038550120X           7\n",
       "10       276746  0425115801           0\n",
       "11       276746  0449006522           0\n",
       "...         ...         ...         ...\n",
       "1149771  276704  0743211383           7\n",
       "1149772  276704  080410526X           0\n",
       "1149776  276706  0679447156           0\n",
       "1149777  276709  0515107662          10\n",
       "1149778  276721  0590442449          10\n",
       "\n",
       "[520499 rows x 3 columns]"
      ]
     },
     "execution_count": 18,
     "metadata": {},
     "output_type": "execute_result"
    }
   ],
   "source": [
    "# remove all books that have less than 10 ratings\n",
    "# count all the books.\n",
    "count_books = ratings['ISBN'].value_counts()\n",
    "# apply .map() function with Series count on each element to remove all books that have less than 10 ratings and \n",
    "# assign it to a new variable to keep ratings untouched\n",
    "ratings = ratings[ratings['ISBN'].map(count_books) >= 10]\n",
    "ratings"
   ]
  },
  {
   "cell_type": "code",
   "execution_count": 19,
   "metadata": {},
   "outputs": [],
   "source": [
    "#group by ISBN in order to do the join with books to remove all the books that have less than 10 ratings\n",
    "# temp_ratings is a dictionary that contains a key as the ISBN and a dataframe that contains all \n",
    "temp_ratings = ratings.groupby(['ISBN'])"
   ]
  },
  {
   "cell_type": "code",
   "execution_count": 20,
   "metadata": {},
   "outputs": [],
   "source": [
    "# getting dict_keys from temp_ratings then cast it into list in order to make it Series to join it with books\n",
    "keys_Series = pd.Series(list(temp_ratings.groups.keys()))\n",
    "# make a dataframe so I can name the column as ISBN to inner join it with books\n",
    "frame = {'ISBN': keys_Series}\n",
    "df_uniqueISBN = pd.DataFrame(frame) "
   ]
  },
  {
   "cell_type": "code",
   "execution_count": 21,
   "metadata": {},
   "outputs": [
    {
     "data": {
      "text/html": [
       "<div>\n",
       "<style scoped>\n",
       "    .dataframe tbody tr th:only-of-type {\n",
       "        vertical-align: middle;\n",
       "    }\n",
       "\n",
       "    .dataframe tbody tr th {\n",
       "        vertical-align: top;\n",
       "    }\n",
       "\n",
       "    .dataframe thead th {\n",
       "        text-align: right;\n",
       "    }\n",
       "</style>\n",
       "<table border=\"1\" class=\"dataframe\">\n",
       "  <thead>\n",
       "    <tr style=\"text-align: right;\">\n",
       "      <th></th>\n",
       "      <th>ISBN</th>\n",
       "      <th>bookTitle</th>\n",
       "      <th>bookAuthor</th>\n",
       "      <th>yearOfPublication</th>\n",
       "      <th>publisher</th>\n",
       "    </tr>\n",
       "  </thead>\n",
       "  <tbody>\n",
       "    <tr>\n",
       "      <td>0</td>\n",
       "      <td>0002005018</td>\n",
       "      <td>Clara Callan</td>\n",
       "      <td>Richard Bruce Wright</td>\n",
       "      <td>2001</td>\n",
       "      <td>HarperFlamingo Canada</td>\n",
       "    </tr>\n",
       "    <tr>\n",
       "      <td>1</td>\n",
       "      <td>0374157065</td>\n",
       "      <td>Flu: The Story of the Great Influenza Pandemic...</td>\n",
       "      <td>Gina Bari Kolata</td>\n",
       "      <td>1999</td>\n",
       "      <td>Farrar Straus Giroux</td>\n",
       "    </tr>\n",
       "    <tr>\n",
       "      <td>2</td>\n",
       "      <td>0399135782</td>\n",
       "      <td>The Kitchen God's Wife</td>\n",
       "      <td>Amy Tan</td>\n",
       "      <td>1991</td>\n",
       "      <td>Putnam Pub Group</td>\n",
       "    </tr>\n",
       "    <tr>\n",
       "      <td>3</td>\n",
       "      <td>0440234743</td>\n",
       "      <td>The Testament</td>\n",
       "      <td>John Grisham</td>\n",
       "      <td>1999</td>\n",
       "      <td>Dell</td>\n",
       "    </tr>\n",
       "    <tr>\n",
       "      <td>4</td>\n",
       "      <td>0452264464</td>\n",
       "      <td>Beloved (Plume Contemporary Fiction)</td>\n",
       "      <td>Toni Morrison</td>\n",
       "      <td>1994</td>\n",
       "      <td>Plume</td>\n",
       "    </tr>\n",
       "    <tr>\n",
       "      <td>...</td>\n",
       "      <td>...</td>\n",
       "      <td>...</td>\n",
       "      <td>...</td>\n",
       "      <td>...</td>\n",
       "      <td>...</td>\n",
       "    </tr>\n",
       "    <tr>\n",
       "      <td>17474</td>\n",
       "      <td>3803112133</td>\n",
       "      <td>Cosi fan tutte. Eine Geschichte.</td>\n",
       "      <td>Alan Bennett</td>\n",
       "      <td>2003</td>\n",
       "      <td>Wagenbach</td>\n",
       "    </tr>\n",
       "    <tr>\n",
       "      <td>17475</td>\n",
       "      <td>006019250X</td>\n",
       "      <td>The Illustrated Alchemist: A Fable About Follo...</td>\n",
       "      <td>Paulo Coelho</td>\n",
       "      <td>1998</td>\n",
       "      <td>HarperCollins Publishers</td>\n",
       "    </tr>\n",
       "    <tr>\n",
       "      <td>17476</td>\n",
       "      <td>0786890088</td>\n",
       "      <td>The Angel Maker</td>\n",
       "      <td>Ridley Pearson</td>\n",
       "      <td>2001</td>\n",
       "      <td>Hyperion Press</td>\n",
       "    </tr>\n",
       "    <tr>\n",
       "      <td>17477</td>\n",
       "      <td>006447027X</td>\n",
       "      <td>The Endless Steppe (rack) : Growing Up in Siberia</td>\n",
       "      <td>Esther Hautzig</td>\n",
       "      <td>1987</td>\n",
       "      <td>HarperTrophy</td>\n",
       "    </tr>\n",
       "    <tr>\n",
       "      <td>17478</td>\n",
       "      <td>0330353349</td>\n",
       "      <td>The Ice House (TV Tie-In Edition)</td>\n",
       "      <td>Minette Walters</td>\n",
       "      <td>1997</td>\n",
       "      <td>McClelland &amp;amp; Stewart</td>\n",
       "    </tr>\n",
       "  </tbody>\n",
       "</table>\n",
       "<p>17479 rows × 5 columns</p>\n",
       "</div>"
      ],
      "text/plain": [
       "             ISBN                                          bookTitle  \\\n",
       "0      0002005018                                       Clara Callan   \n",
       "1      0374157065  Flu: The Story of the Great Influenza Pandemic...   \n",
       "2      0399135782                             The Kitchen God's Wife   \n",
       "3      0440234743                                      The Testament   \n",
       "4      0452264464               Beloved (Plume Contemporary Fiction)   \n",
       "...           ...                                                ...   \n",
       "17474  3803112133                   Cosi fan tutte. Eine Geschichte.   \n",
       "17475  006019250X  The Illustrated Alchemist: A Fable About Follo...   \n",
       "17476  0786890088                                    The Angel Maker   \n",
       "17477  006447027X  The Endless Steppe (rack) : Growing Up in Siberia   \n",
       "17478  0330353349                  The Ice House (TV Tie-In Edition)   \n",
       "\n",
       "                 bookAuthor  yearOfPublication                 publisher  \n",
       "0      Richard Bruce Wright               2001     HarperFlamingo Canada  \n",
       "1          Gina Bari Kolata               1999      Farrar Straus Giroux  \n",
       "2                   Amy Tan               1991          Putnam Pub Group  \n",
       "3              John Grisham               1999                      Dell  \n",
       "4             Toni Morrison               1994                     Plume  \n",
       "...                     ...                ...                       ...  \n",
       "17474          Alan Bennett               2003                 Wagenbach  \n",
       "17475          Paulo Coelho               1998  HarperCollins Publishers  \n",
       "17476        Ridley Pearson               2001            Hyperion Press  \n",
       "17477        Esther Hautzig               1987              HarperTrophy  \n",
       "17478       Minette Walters               1997  McClelland &amp; Stewart  \n",
       "\n",
       "[17479 rows x 5 columns]"
      ]
     },
     "execution_count": 21,
     "metadata": {},
     "output_type": "execute_result"
    }
   ],
   "source": [
    "# final df for books\n",
    "books_over10= pd.merge(left=books, right=df_uniqueISBN, how='inner', left_on='ISBN', right_on='ISBN')\n",
    "books_over10"
   ]
  },
  {
   "cell_type": "code",
   "execution_count": 22,
   "metadata": {},
   "outputs": [],
   "source": [
    "# count all the users.\n",
    "count_users = ratings['userID'].value_counts()\n",
    "# apply .map() function with Series count on each element to remove all books that have less than 5 userID and \n",
    "# assign it to a new variable to keep ratings untouched\n",
    "ratings = ratings[ratings['userID'].map(count_users) >= 5]"
   ]
  },
  {
   "cell_type": "code",
   "execution_count": 23,
   "metadata": {},
   "outputs": [],
   "source": [
    "#group by ISBN in order to do the join with books to remove all the books that have less than 10 ratings\n",
    "# temp_ratings is a dictionary that contains a key as the ISBN and a dataframe that contains all \n",
    "temp_ratings = ratings.groupby(['userID'])\n",
    "# getting dict_keys from temp_ratings then cast it into list in order to make it Series to join it with users\n",
    "keys_Series = pd.Series(list(temp_ratings.groups.keys()))\n",
    "# make a dataframe so I can name the column as userID to inner join it with books\n",
    "frame = {'userID': keys_Series}\n",
    "df_uniqueuserID = pd.DataFrame(frame) "
   ]
  },
  {
   "cell_type": "code",
   "execution_count": 24,
   "metadata": {},
   "outputs": [
    {
     "data": {
      "text/html": [
       "<div>\n",
       "<style scoped>\n",
       "    .dataframe tbody tr th:only-of-type {\n",
       "        vertical-align: middle;\n",
       "    }\n",
       "\n",
       "    .dataframe tbody tr th {\n",
       "        vertical-align: top;\n",
       "    }\n",
       "\n",
       "    .dataframe thead th {\n",
       "        text-align: right;\n",
       "    }\n",
       "</style>\n",
       "<table border=\"1\" class=\"dataframe\">\n",
       "  <thead>\n",
       "    <tr style=\"text-align: right;\">\n",
       "      <th></th>\n",
       "      <th>userID</th>\n",
       "      <th>Location</th>\n",
       "      <th>Age</th>\n",
       "    </tr>\n",
       "  </thead>\n",
       "  <tbody>\n",
       "    <tr>\n",
       "      <td>0</td>\n",
       "      <td>17</td>\n",
       "      <td>chesapeake, virginia, usa</td>\n",
       "      <td>NaN</td>\n",
       "    </tr>\n",
       "    <tr>\n",
       "      <td>1</td>\n",
       "      <td>99</td>\n",
       "      <td>franktown, colorado, usa</td>\n",
       "      <td>42.0</td>\n",
       "    </tr>\n",
       "    <tr>\n",
       "      <td>2</td>\n",
       "      <td>114</td>\n",
       "      <td>ligonier, pennsylvania, usa</td>\n",
       "      <td>57.0</td>\n",
       "    </tr>\n",
       "    <tr>\n",
       "      <td>3</td>\n",
       "      <td>165</td>\n",
       "      <td>olympia, washington, usa</td>\n",
       "      <td>62.0</td>\n",
       "    </tr>\n",
       "    <tr>\n",
       "      <td>4</td>\n",
       "      <td>242</td>\n",
       "      <td>neuffen, baden-wuerttemberg, germany</td>\n",
       "      <td>37.0</td>\n",
       "    </tr>\n",
       "    <tr>\n",
       "      <td>...</td>\n",
       "      <td>...</td>\n",
       "      <td>...</td>\n",
       "      <td>...</td>\n",
       "    </tr>\n",
       "    <tr>\n",
       "      <td>13399</td>\n",
       "      <td>278723</td>\n",
       "      <td>prior lake, minnesota, usa</td>\n",
       "      <td>52.0</td>\n",
       "    </tr>\n",
       "    <tr>\n",
       "      <td>13400</td>\n",
       "      <td>278771</td>\n",
       "      <td>milford, connecticut, usa</td>\n",
       "      <td>NaN</td>\n",
       "    </tr>\n",
       "    <tr>\n",
       "      <td>13401</td>\n",
       "      <td>278843</td>\n",
       "      <td>pismo beach, california, usa</td>\n",
       "      <td>28.0</td>\n",
       "    </tr>\n",
       "    <tr>\n",
       "      <td>13402</td>\n",
       "      <td>278851</td>\n",
       "      <td>dallas, texas, usa</td>\n",
       "      <td>33.0</td>\n",
       "    </tr>\n",
       "    <tr>\n",
       "      <td>13403</td>\n",
       "      <td>278854</td>\n",
       "      <td>portland, oregon, usa</td>\n",
       "      <td>NaN</td>\n",
       "    </tr>\n",
       "  </tbody>\n",
       "</table>\n",
       "<p>13404 rows × 3 columns</p>\n",
       "</div>"
      ],
      "text/plain": [
       "       userID                              Location   Age\n",
       "0          17             chesapeake, virginia, usa   NaN\n",
       "1          99              franktown, colorado, usa  42.0\n",
       "2         114           ligonier, pennsylvania, usa  57.0\n",
       "3         165              olympia, washington, usa  62.0\n",
       "4         242  neuffen, baden-wuerttemberg, germany  37.0\n",
       "...       ...                                   ...   ...\n",
       "13399  278723            prior lake, minnesota, usa  52.0\n",
       "13400  278771             milford, connecticut, usa   NaN\n",
       "13401  278843          pismo beach, california, usa  28.0\n",
       "13402  278851                    dallas, texas, usa  33.0\n",
       "13403  278854                 portland, oregon, usa   NaN\n",
       "\n",
       "[13404 rows x 3 columns]"
      ]
     },
     "execution_count": 24,
     "metadata": {},
     "output_type": "execute_result"
    }
   ],
   "source": [
    "# final df for users\n",
    "user_over5= pd.merge(left=users, right=df_uniqueuserID, how='inner', left_on='userID', right_on='userID')\n",
    "user_over5"
   ]
  },
  {
   "cell_type": "code",
   "execution_count": 25,
   "metadata": {},
   "outputs": [],
   "source": [
    "# initialize the new column of keywords.\n",
    "# pre processing for adding keywords for each title.\n",
    "books_over10['Keywords'] = \"\"\n",
    "r = Rake() # Uses stopwords for english from NLTK, and all puntuation characters.\n",
    "for index, row in books_over10.iterrows():\n",
    "    a=r.extract_keywords_from_text(row['bookTitle'])\n",
    "    # b=r.get_ranked_phrases() # To get keyword phrases ranked highest to lowest. \n",
    "    c=r.get_ranked_phrases() # To get keyword phrases ranked with scores highest to lowest.\n",
    "    books_over10.at[index, 'Keywords'] = c"
   ]
  },
  {
   "cell_type": "code",
   "execution_count": 26,
   "metadata": {},
   "outputs": [
    {
     "data": {
      "text/plain": [
       "0                                       [clara callan]\n",
       "1    [great influenza pandemic, virus, story, searc...\n",
       "2                                  [kitchen god, wife]\n",
       "3                                          [testament]\n",
       "4                [plume contemporary fiction, beloved]\n",
       "Name: Keywords, dtype: object"
      ]
     },
     "execution_count": 26,
     "metadata": {},
     "output_type": "execute_result"
    }
   ],
   "source": [
    "# pd.set_option('display.max_rows', 30) # display 30 rows\n",
    "# pd.set_option('display.max_columns', 5)\n",
    "books_over10.Keywords.head()"
   ]
  },
  {
   "cell_type": "code",
   "execution_count": 39,
   "metadata": {},
   "outputs": [],
   "source": [
    "## START OF RECOMMENDER SYSTEM.\n",
    "def getRecommendations(new):\n",
    "    random_users = new['userID'].tolist()\n",
    "    new_ratings_grouped = ratings.groupby('userID')\n",
    "    for index, userID in enumerate(random_users):\n",
    "        # getting the data frame \n",
    "        current_users_ratings = get_group(new_ratings_grouped, userID)\n",
    "        # get the column with ISBN'S to exclude them from the search.\n",
    "        excluded_ISBNS = current_users_ratings['ISBN']\n",
    "        # get the 3 maximum values out of bookRating column.\n",
    "        df_most_rated_books = current_users_ratings.nlargest(3, ['bookRating'])\n",
    "        # inner join to get the bookAuthor, Keywords and year.\n",
    "        most_rated_books = pd.merge(left=df_most_rated_books, right=books_over10, how='inner', left_on='ISBN', right_on='ISBN')\n",
    "        profile = most_rated_books[['bookAuthor','yearOfPublication','Keywords']]\n",
    "        # Get every column as Series, turn it into list and then cast it into set.\n",
    "        years = set(profile['yearOfPublication'].tolist())\n",
    "        Authors = set(profile['bookAuthor'].tolist())\n",
    "        Keywords = profile['Keywords'].tolist()\n",
    "        # Use list comprehension to convert a list of lists to a flat list and then to a set.\n",
    "        KeywordsList = [item for elem in Keywords for item in elem]\n",
    "        KeywordsSet = set(KeywordsList)\n",
    "        # include the books with ISBNS that are NOT (~) currently in column isbn.\n",
    "        excluded_books_over10 = books_over10.loc[~books_over10['ISBN'].isin(excluded_ISBNS)]\n",
    "        # print(years,Authors,KeywordsSet)\n",
    "        CalculateSimilarities(years, Authors, KeywordsSet, excluded_books_over10,index)"
   ]
  },
  {
   "cell_type": "code",
   "execution_count": 63,
   "metadata": {},
   "outputs": [],
   "source": [
    "# a function that takes as input a  grouped_by dataframe and a key according to grouped, and returns the dataframe \n",
    "# that is connected to current key.\n",
    "def get_group(group_df, key):\n",
    "     if key in group_df.groups: return group_df.get_group(key)\n",
    "     return pd.DataFrame()\n",
    "def CalculateSimilarities(years, Authors, KeywordsSet, excluded_books_over10, curr_user):\n",
    "    # the below list comprehension takes every yearofPublication of all books then takes\n",
    "    # every year as y in years from 3 most rated, calculating the difference and saves the max.\n",
    "    year_diff = [max([(1-(np.absolute(x-y)/2005)) for y in years]) for x in excluded_books_over10['yearOfPublication']]\n",
    "    jac_sim = [len(KeywordsSet.intersection(set(x))) / len(KeywordsSet.union(x)) for x in excluded_books_over10['Keywords']]\n",
    "    # check if any of most rated Authors are in the books. if it is set it 1 otherwise 0.\n",
    "    Author = [1 if Author in Authors else 0 for Author in excluded_books_over10['bookAuthor']]\n",
    "    # calculate \n",
    "    final_scoreJ = [0.2*jaccard + 0.4*max_year + 0.4*Auth for max_year, jaccard, Auth in zip(year_diff, jac_sim, Author)]\n",
    "    # get the sorted list with the original indexes also, \n",
    "    # then take only the last ten(maximum) elements of each and reverse the list to get them in the right order.\n",
    "    indices, final_score_sorted = zip(*sorted(enumerate(final_scoreJ), key=operator.itemgetter(1)))\n",
    "    max_indicesJ = list(indices[-10:])\n",
    "    max_indicesJ.reverse()\n",
    "    max_scoresJ = list(final_score_sorted[-10:])\n",
    "    max_scoresJ.reverse()\n",
    "    user = 'JaccardOutput' + str(curr_user+1) + '.xlsx'\n",
    "    # set scoresj_df into a dataframe that contains only the top ten books according to max_indices for jaccard similarity.\n",
    "    scoresj_df = excluded_books_over10.iloc[max_indicesJ[0:10]]\n",
    "    # set a new column named JaccardScores to keep the scores.\n",
    "    scoresj_df['JaccardScores'] = max_scoresJ\n",
    "    scoresj_df.to_excel(user)\n",
    "    # DO THE SAME AS ABOVE WITH DICE COEFFICIENT INSTEAD.\n",
    "    dice_sim = [2*len(KeywordsSet.intersection(set(x))) / (len(KeywordsSet) + len(set(x))) for x in excluded_books_over10['Keywords']]\n",
    "    final_scoreD = [0.5*dice_coef + 0.2*max_year + 0.3*Auth for max_year, dice_coef, Auth in zip(year_diff, dice_sim, Author)]\n",
    "    indices, final_score_sorted = zip(*sorted(enumerate(final_scoreD), key=operator.itemgetter(1)))\n",
    "    max_indicesC = list(indices[-10:])\n",
    "    max_indicesC.reverse()\n",
    "    max_scoresC = list(final_score_sorted[-10:])\n",
    "    max_scoresC.reverse()\n",
    "    user = 'DiceCoefOutput' + str(curr_user+1) + '.xlsx'\n",
    "    # set scoresC_df into a dataframe that contains only the top ten books according to max_indices for dice coeff.\n",
    "    scoresc_df = excluded_books_over10.iloc[max_indicesC[0:10]]\n",
    "    # set a new column named JaccardScores to keep the scores.\n",
    "    scoresc_df['DiceCoefScores'] = max_scoresC\n",
    "    scoresc_df.to_excel(user)"
   ]
  },
  {
   "cell_type": "code",
   "execution_count": 71,
   "metadata": {
    "scrolled": true
   },
   "outputs": [],
   "source": [
    "new = user_over5.sample(1)\n",
    "getRecommendations(new)"
   ]
  },
  {
   "cell_type": "code",
   "execution_count": null,
   "metadata": {},
   "outputs": [],
   "source": []
  }
 ],
 "metadata": {
  "kernelspec": {
   "display_name": "Python 3",
   "language": "python",
   "name": "python3"
  },
  "language_info": {
   "codemirror_mode": {
    "name": "ipython",
    "version": 3
   },
   "file_extension": ".py",
   "mimetype": "text/x-python",
   "name": "python",
   "nbconvert_exporter": "python",
   "pygments_lexer": "ipython3",
   "version": "3.7.3"
  }
 },
 "nbformat": 4,
 "nbformat_minor": 2
}
